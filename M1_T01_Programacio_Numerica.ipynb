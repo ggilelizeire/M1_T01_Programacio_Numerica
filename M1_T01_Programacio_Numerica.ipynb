{
 "cells": [
  {
   "cell_type": "markdown",
   "id": "d5a9e154",
   "metadata": {},
   "source": [
    "# <center>M1 T01: Programación Numérica"
   ]
  },
  {
   "cell_type": "code",
   "execution_count": 1,
   "id": "3873da5d",
   "metadata": {},
   "outputs": [],
   "source": [
    "# Siento no seguir el estándar de importar numpy como \"np\", pero creo que vale la pena escribir tres letras de más\n",
    "#   (a cambio de que el código se entienda mejor):\n",
    "\n",
    "import numpy"
   ]
  },
  {
   "cell_type": "markdown",
   "id": "7bb84c9e",
   "metadata": {},
   "source": [
    "## Exercici 1\n",
    "Crea una funció que donat un Array d’una dimensió, et faci un resum estadístic bàsic de les dades. Si detecta que l’array té més d’una dimensió, ha de mostrar un missatge d’error."
   ]
  },
  {
   "cell_type": "code",
   "execution_count": 2,
   "id": "408b73d1",
   "metadata": {},
   "outputs": [],
   "source": [
    "def get_array_info(input_array):\n",
    "    if input_array.ndim > 1:\n",
    "        print(\"ERROR: El Array no puede tener más de una Dimensión.\")\n",
    "    else:\n",
    "        print(f\"Cantidad de elementos del array: {input_array.shape[0]}\")\n",
    "        print(f\"Tipo de Datos de los elementos: {input_array.dtype}\")\n",
    "        print(f\"Valor Mínimo: {input_array.min()}\")\n",
    "        print(f\"Valor Máximo: {input_array.max()}\")\n",
    "        print(f\"Valor Promedio: {input_array.mean()}\")\n",
    "        print(f\"Desviación Estándar: {input_array.std()}\")\n",
    "        print(f\"Suma de los Valores: {input_array.sum()}\")"
   ]
  },
  {
   "cell_type": "code",
   "execution_count": 3,
   "id": "72d68950",
   "metadata": {},
   "outputs": [
    {
     "name": "stdout",
     "output_type": "stream",
     "text": [
      "Cantidad de elementos del array: 5\n",
      "Tipo de Datos de los elementos: int32\n",
      "Valor Mínimo: 1\n",
      "Valor Máximo: 5\n",
      "Valor Promedio: 3.0\n",
      "Desviación Estándar: 1.4142135623730951\n",
      "Suma de los Valores: 15\n"
     ]
    }
   ],
   "source": [
    "my_array_1D = numpy.array([1, 2, 3, 4, 5]) \n",
    "get_array_info(my_array_1D)"
   ]
  },
  {
   "cell_type": "code",
   "execution_count": 4,
   "id": "a61ccf45",
   "metadata": {},
   "outputs": [
    {
     "name": "stdout",
     "output_type": "stream",
     "text": [
      "ERROR: El Array no puede tener más de una Dimensión.\n"
     ]
    }
   ],
   "source": [
    "my_array_3D = numpy.array([[[1, 2, 3], [4, 5, 6]] , [[1, 2, 3], [4, 5, 6]]])\n",
    "get_array_info(my_array_3D)"
   ]
  },
  {
   "cell_type": "markdown",
   "id": "1cebd3e2",
   "metadata": {},
   "source": [
    "## Exercici 2\n",
    "Crea una funció que et generi un quadrat NxN de nombres aleatoris entre el 0 i el 100."
   ]
  },
  {
   "cell_type": "code",
   "execution_count": 5,
   "id": "81105ec3",
   "metadata": {},
   "outputs": [],
   "source": [
    "def get_random_array(regs, values):\n",
    "    if type(regs) != int or type(values) != int:\n",
    "        print(\"ERROR: Los parámetros de la función deben ser números enteros.\")\n",
    "    else:\n",
    "        return numpy.random.randint(100, size=(regs, values))"
   ]
  },
  {
   "cell_type": "code",
   "execution_count": 6,
   "id": "12934f78",
   "metadata": {},
   "outputs": [
    {
     "data": {
      "text/plain": [
       "array([[10, 46,  4, 14, 97],\n",
       "       [83, 96, 45, 22, 74],\n",
       "       [92, 60, 23, 38,  0]])"
      ]
     },
     "execution_count": 6,
     "metadata": {},
     "output_type": "execute_result"
    }
   ],
   "source": [
    "get_random_array(3, 5)"
   ]
  },
  {
   "cell_type": "code",
   "execution_count": 7,
   "id": "5e328f89",
   "metadata": {},
   "outputs": [
    {
     "name": "stdout",
     "output_type": "stream",
     "text": [
      "ERROR: Los parámetros de la función deben ser números enteros.\n"
     ]
    }
   ],
   "source": [
    "get_random_array(3.5, 5)"
   ]
  },
  {
   "cell_type": "code",
   "execution_count": 8,
   "id": "0a21a01a",
   "metadata": {},
   "outputs": [
    {
     "name": "stdout",
     "output_type": "stream",
     "text": [
      "ERROR: Los parámetros de la función deben ser números enteros.\n"
     ]
    }
   ],
   "source": [
    "get_random_array('hola', 5)"
   ]
  },
  {
   "cell_type": "markdown",
   "id": "e2be8d20",
   "metadata": {},
   "source": [
    "## Exercici 3\n",
    "Crea una funció que donada una taula de dues dimensions, et calculi els totals per fila i els totals per columna."
   ]
  },
  {
   "cell_type": "code",
   "execution_count": 9,
   "id": "d2d5362d",
   "metadata": {},
   "outputs": [
    {
     "name": "stdout",
     "output_type": "stream",
     "text": [
      "[[1 2 3]\n",
      " [4 5 6]\n",
      " [7 8 9]]\n"
     ]
    }
   ],
   "source": [
    "my_array_2D = numpy.array([[1, 2, 3],\n",
    "                           [4, 5, 6],\n",
    "                           [7, 8, 9]])\n",
    "\n",
    "print(my_array_2D)"
   ]
  },
  {
   "cell_type": "code",
   "execution_count": 10,
   "id": "21c6ac50",
   "metadata": {},
   "outputs": [],
   "source": [
    "def array_sum(input_array):\n",
    "    if input_array.ndim != 2:\n",
    "        print(\"ERROR: El Array debe tener 2 Dimensiones.\")\n",
    "    else:\n",
    "        # Variables para almacenar los índices:\n",
    "        row_index = 0\n",
    "        col_index = 0\n",
    "        # Arrays con las sumas de las filas y las columnas:\n",
    "        row_sum = input_array.sum(axis=1)\n",
    "        col_sum = input_array.sum(axis=0)\n",
    "        # Itero el array de suma de filas, para imprimir los valores:\n",
    "        for value in row_sum:\n",
    "            print(f\"Total Fila {row_index}: {value}\")\n",
    "            row_index += 1\n",
    "        # Itero el array de suma de columnas, para imprimir los valores:\n",
    "        for value in col_sum:\n",
    "            print(f\"Total Columna {col_index}: {value}\")\n",
    "            col_index += 1"
   ]
  },
  {
   "cell_type": "code",
   "execution_count": 11,
   "id": "c82bfaf7",
   "metadata": {},
   "outputs": [
    {
     "name": "stdout",
     "output_type": "stream",
     "text": [
      "Total Fila 0: 6\n",
      "Total Fila 1: 15\n",
      "Total Fila 2: 24\n",
      "Total Columna 0: 12\n",
      "Total Columna 1: 15\n",
      "Total Columna 2: 18\n"
     ]
    }
   ],
   "source": [
    "array_sum(my_array_2D)"
   ]
  },
  {
   "cell_type": "code",
   "execution_count": 12,
   "id": "4a71c2a2",
   "metadata": {},
   "outputs": [
    {
     "name": "stdout",
     "output_type": "stream",
     "text": [
      "ERROR: El Array debe tener 2 Dimensiones.\n"
     ]
    }
   ],
   "source": [
    "array_sum(my_array_1D)"
   ]
  },
  {
   "cell_type": "markdown",
   "id": "b862f966",
   "metadata": {},
   "source": [
    "## Exercici 4\n",
    "Implementa manualment una funció que calculi el coeficient de correlació. Informa’t-en sobre els seus usos i interpretació."
   ]
  },
  {
   "cell_type": "code",
   "execution_count": 13,
   "id": "37e4bdb2",
   "metadata": {},
   "outputs": [],
   "source": [
    "def get_corr_manual(array1, array2):\n",
    "    # Calculo la covarianza:\n",
    "    cov = (sum(numpy.prod([array1, array2], axis=0)) / len(array1)) - (array1.mean() * array2.mean())\n",
    "    # Calculo la correlación:\n",
    "    corr = cov / (array1.std() * array2.std())\n",
    "    # Imprimo el resultado, con 3 decimales:\n",
    "    print(round(corr, 3))"
   ]
  },
  {
   "cell_type": "code",
   "execution_count": 14,
   "id": "350454d8",
   "metadata": {},
   "outputs": [],
   "source": [
    "array1 = numpy.array([1,5,9,10,12])\n",
    "array2 = numpy.array([4,6,7,8,9])"
   ]
  },
  {
   "cell_type": "code",
   "execution_count": 15,
   "id": "45c09ee6",
   "metadata": {},
   "outputs": [
    {
     "name": "stdout",
     "output_type": "stream",
     "text": [
      "0.988\n"
     ]
    }
   ],
   "source": [
    "get_corr_manual(array1, array2)"
   ]
  },
  {
   "cell_type": "code",
   "execution_count": 16,
   "id": "623d24e7",
   "metadata": {},
   "outputs": [],
   "source": [
    "# Se puede calcular más fácil con la función \"corrcoef\" de numpy:\n",
    "\n",
    "def get_corr_auto(array1, array2):\n",
    "    # Calculo la correlación:\n",
    "    corr = numpy.corrcoef(array1, array2)[0, 1]\n",
    "    # Imprimo el resultado, con 3 decimales:\n",
    "    print(round(corr, 3))"
   ]
  },
  {
   "cell_type": "code",
   "execution_count": 17,
   "id": "a53001c4",
   "metadata": {},
   "outputs": [
    {
     "name": "stdout",
     "output_type": "stream",
     "text": [
      "0.988\n"
     ]
    }
   ],
   "source": [
    "get_corr_auto(array1, array2)"
   ]
  },
  {
   "cell_type": "markdown",
   "id": "9b6be172",
   "metadata": {},
   "source": [
    "---"
   ]
  }
 ],
 "metadata": {
  "kernelspec": {
   "display_name": "Python 3",
   "language": "python",
   "name": "python3"
  },
  "language_info": {
   "codemirror_mode": {
    "name": "ipython",
    "version": 3
   },
   "file_extension": ".py",
   "mimetype": "text/x-python",
   "name": "python",
   "nbconvert_exporter": "python",
   "pygments_lexer": "ipython3",
   "version": "3.9.5"
  }
 },
 "nbformat": 4,
 "nbformat_minor": 5
}
